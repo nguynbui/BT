{
  "nbformat": 4,
  "nbformat_minor": 0,
  "metadata": {
    "colab": {
      "provenance": [],
      "authorship_tag": "ABX9TyNSOvcYYj2B1pNV3OHR1lXu",
      "include_colab_link": true
    },
    "kernelspec": {
      "name": "python3",
      "display_name": "Python 3"
    },
    "language_info": {
      "name": "python"
    }
  },
  "cells": [
    {
      "cell_type": "markdown",
      "metadata": {
        "id": "view-in-github",
        "colab_type": "text"
      },
      "source": [
        "<a href=\"https://colab.research.google.com/github/nguynbui/BT/blob/main/113.ipynb\" target=\"_parent\"><img src=\"https://colab.research.google.com/assets/colab-badge.svg\" alt=\"Open In Colab\"/></a>"
      ]
    },
    {
      "cell_type": "markdown",
      "source": [
        "113 Bai Code Thieu Nhi"
      ],
      "metadata": {
        "id": "MJotYvHMyy2L"
      }
    },
    {
      "cell_type": "code",
      "source": [
        "## Bai 1\n",
        "\n",
        "x = input(\"Nhap tu ban phim: \")\n",
        "print(len(x))"
      ],
      "metadata": {
        "colab": {
          "base_uri": "https://localhost:8080/"
        },
        "id": "E901Zh6Yy25B",
        "outputId": "b283f16a-f65c-4800-a22c-6c168aa9f138"
      },
      "execution_count": null,
      "outputs": [
        {
          "output_type": "stream",
          "name": "stdout",
          "text": [
            "Nhap tu ban phim: cho Thanh ngu bo\n",
            "16\n"
          ]
        }
      ]
    },
    {
      "cell_type": "code",
      "source": [
        "# Bài 2\n",
        "\n",
        "def char_frequency(s):\n",
        "    freq_dict = {}\n",
        "    for char in s:\n",
        "        freq_dict[char] = freq_dict.get(char, 0) + 1\n",
        "    return freq_dict\n",
        "\n",
        "user_input = input(\"Enter a string: \")\n",
        "freq = char_frequency(user_input)\n",
        "print(f\"String: {user_input}\")\n",
        "print(f\"Character frequency: {freq}\")"
      ],
      "metadata": {
        "id": "I7iJ1mdTXx_A"
      },
      "execution_count": null,
      "outputs": []
    },
    {
      "cell_type": "code",
      "execution_count": null,
      "metadata": {
        "colab": {
          "base_uri": "https://localhost:8080/"
        },
        "id": "05HuZtYuywAy",
        "outputId": "fefaedb7-2c62-448d-a71f-5fe5f0e89aa1"
      },
      "outputs": [
        {
          "output_type": "stream",
          "name": "stdout",
          "text": [
            "Nhap tu ban phim: w\n",
            "Empty String\n"
          ]
        }
      ],
      "source": [
        "## Bai 3\n",
        "x = input(\"Type from keyboard: \")\n",
        "\n",
        "if (len(x) >= 2):\n",
        "  print(x[0:2] + x[len(x)-2:len(x)])\n",
        "else:\n",
        "  print('Empty String')"
      ]
    },
    {
      "cell_type": "code",
      "source": [
        "# Bài 4\n",
        "\n",
        "def replace_first_char_occurrences(s):\n",
        "    if not s:\n",
        "        return \"\"\n",
        "    first_char = s[0]\n",
        "    modified_string = first_char + s[1:].replace(first_char, '$')\n",
        "    return modified_string\n",
        "\n",
        "user_input = input(\"Enter a string: \").strip()\n",
        "result = replace_first_char_occurrences(user_input)\n",
        "print(f\"String: {user_input}\")\n",
        "print(f\"Modified string: {result}\")"
      ],
      "metadata": {
        "id": "uXchX70aXzWz"
      },
      "execution_count": null,
      "outputs": []
    },
    {
      "cell_type": "code",
      "source": [
        "## Bai 5\n",
        "a = input(\"Type from keyboard the first word: \")\n",
        "b = input(\"Type from keyboard the second word: \")\n",
        "\n",
        "print(b[0:2] + a[2:len(a)] + ' ' + a[0:2] + b[2:len(b)])"
      ],
      "metadata": {
        "colab": {
          "base_uri": "https://localhost:8080/"
        },
        "id": "TxynTkOY2UZJ",
        "outputId": "950fcab4-b5a8-48e2-fb03-6d34ede02256"
      },
      "execution_count": null,
      "outputs": [
        {
          "output_type": "stream",
          "name": "stdout",
          "text": [
            "Type from keyboard: abc\n",
            "Type from keyboard: xyz\n",
            "xyc abz\n"
          ]
        }
      ]
    },
    {
      "cell_type": "code",
      "source": [
        "## Bai 6\n",
        "x = input(\"Nhap tu ban phim: \")\n",
        "\n",
        "if (len(x) >= 3):\n",
        "  if (x.endswith('ing')):\n",
        "    print(x + 'ly')\n",
        "  else:\n",
        "    print(x + 'ing')"
      ],
      "metadata": {
        "id": "UCwq2k5j1kmC"
      },
      "execution_count": null,
      "outputs": []
    },
    {
      "cell_type": "code",
      "source": [
        "def not_poor(str1):\n",
        "  snot = str1.find('not')\n",
        "  spoor = str1.find('poor')\n",
        "\n",
        "\n",
        "  if spoor > snot and snot>0 and spoor>0:\n",
        "    str1 = str1.replace(str1[snot:(spoor+4)], 'good')\n",
        "    return str1\n",
        "  else:\n",
        "    return str1\n",
        "print(not_poor('The lyrics is not that poor!'))\n",
        "print(not_poor('The lyrics is poor!'))\n"
      ],
      "metadata": {
        "id": "SWbRsU2-4DBL"
      },
      "execution_count": null,
      "outputs": []
    },
    {
      "cell_type": "code",
      "source": [
        "# Bài 8\n",
        "\n",
        "def find_longest_word(words_list):\n",
        "    word_len = []\n",
        "    for n in words_list:\n",
        "        word_len.append((len(n), n))\n",
        "    word_len.sort()\n",
        "    return word_len[-1][0], word_len[-1][1]\n",
        "\n",
        "result = find_longest_word([\"PHP\", \"Exercises\", \"Backend\"])\n",
        "\n",
        "print(\"\\nLongest word: \", result[1])\n",
        "print(\"Length of the longest word: \", result[0])"
      ],
      "metadata": {
        "colab": {
          "base_uri": "https://localhost:8080/"
        },
        "id": "aJhVjQCfsZM_",
        "outputId": "c7ef59f0-c053-48ea-8cf7-1e03cfe0f2b8"
      },
      "execution_count": null,
      "outputs": [
        {
          "output_type": "stream",
          "name": "stdout",
          "text": [
            "\n",
            "Longest word:  Exercises\n",
            "Length of the longest word:  9\n"
          ]
        }
      ]
    },
    {
      "cell_type": "code",
      "source": [
        "# Bài 9\n",
        "\n",
        "def remove_nth_index(str, n):\n",
        "      first_part = str[:n]\n",
        "      last_part = str[n+1:]\n",
        "      return first_part + last_part\n",
        "n = int(input('Vi tri can xoa: '))\n",
        "print(remove_nth_index('Python', n))"
      ],
      "metadata": {
        "id": "QiW4D5vNv3-V",
        "colab": {
          "base_uri": "https://localhost:8080/"
        },
        "outputId": "093e3c96-e254-4966-b3ba-189b8d4c51e6"
      },
      "execution_count": 3,
      "outputs": [
        {
          "output_type": "stream",
          "name": "stdout",
          "text": [
            "Vi tri can xoa: 3\n",
            "Pyton\n"
          ]
        }
      ]
    },
    {
      "cell_type": "code",
      "source": [
        "# Bai 10\n",
        "\n",
        "def change_sring(str1):\n",
        "      return str1[-1:] + str1[1:-1] + str1[:1]\n",
        "\n",
        "print(change_sring('abcd'))\n",
        "print(change_sring('12345'))"
      ],
      "metadata": {
        "id": "o79iRLWP_oR_"
      },
      "execution_count": null,
      "outputs": []
    },
    {
      "cell_type": "code",
      "source": [
        "# Bai 11\n",
        "\n",
        "def odd_values_string(str):\n",
        "  result = \"\"\n",
        "  for i in range(len(str)):\n",
        "    if i % 2 == 0:\n",
        "      result = result + str[i]\n",
        "  return result\n",
        "\n",
        "print(odd_values_string('abcdef'))"
      ],
      "metadata": {
        "colab": {
          "base_uri": "https://localhost:8080/"
        },
        "id": "788OO5hrACcv",
        "outputId": "c1eacdec-be64-4ce5-a91a-c0bb335c9ae5"
      },
      "execution_count": 5,
      "outputs": [
        {
          "output_type": "stream",
          "name": "stdout",
          "text": [
            "ace\n"
          ]
        }
      ]
    },
    {
      "cell_type": "code",
      "source": [
        "# Bai 12\n",
        "\n",
        "def word_count(str):\n",
        "    counts = dict()\n",
        "    words = str.split()\n",
        "\n",
        "    for word in words:\n",
        "        if word in counts:\n",
        "            counts[word] += 1\n",
        "        else:\n",
        "            counts[word] = 1\n",
        "\n",
        "    return counts"
      ],
      "metadata": {
        "id": "Tkodmo1LAY4M"
      },
      "execution_count": null,
      "outputs": []
    },
    {
      "cell_type": "code",
      "source": [
        "# Bai 13\n",
        "\n",
        "x = input(\"Nhap tu ban phim: \")\n",
        "\n",
        "print(x.upper())\n",
        "print(x.lower())"
      ],
      "metadata": {
        "colab": {
          "base_uri": "https://localhost:8080/"
        },
        "id": "S9MRA-DsA-oT",
        "outputId": "835f04ee-1980-4408-f69c-fd10cc6e6130"
      },
      "execution_count": 6,
      "outputs": [
        {
          "output_type": "stream",
          "name": "stdout",
          "text": [
            "Nhap tu ban phim: cho Duc ngu bo\n",
            "CHO DUC NGU BO\n",
            "cho duc ngu bo\n"
          ]
        }
      ]
    },
    {
      "cell_type": "code",
      "source": [
        "# Bai 14\n",
        "\n",
        "sequenceofwords = input(\"Nhap tu ban phim: \")\n",
        "words = [word for word in sequenceofwords.split(\", \")]\n",
        "print(\", \".join(sorted(list(set(words)))))"
      ],
      "metadata": {
        "colab": {
          "base_uri": "https://localhost:8080/"
        },
        "id": "Rl-5dFiXBoU0",
        "outputId": "18f20260-b8f4-4100-a878-3d1e4a71a3e3"
      },
      "execution_count": 8,
      "outputs": [
        {
          "output_type": "stream",
          "name": "stdout",
          "text": [
            "Nhap tu ban phim: red, white, black, red, green, black\n",
            "black, green, red, white\n"
          ]
        }
      ]
    },
    {
      "cell_type": "code",
      "source": [
        "# Bai 15\n",
        "\n",
        "def add_tags(tag, word):\n",
        "\treturn \"<%s>%s</%s>\" % (tag, word, tag)\n",
        "print(add_tags('i', 'Python'))\n",
        "print(add_tags('b', 'Python Tutorial'))"
      ],
      "metadata": {
        "colab": {
          "base_uri": "https://localhost:8080/"
        },
        "id": "L7rlqTS3CNA9",
        "outputId": "87a21f1a-6526-4125-d0c4-8533f7057694"
      },
      "execution_count": 9,
      "outputs": [
        {
          "output_type": "stream",
          "name": "stdout",
          "text": [
            "<i>Python</i>\n",
            "<b>Python Tutorial</b>\n"
          ]
        }
      ]
    },
    {
      "cell_type": "code",
      "source": [
        "# Bai 16\n",
        "\n",
        "def insert_sting_middle(str, word):\n",
        "\treturn str[:2] + word + str[2:]\n",
        "\n",
        "print(insert_sting_middle('[[]]', 'Python'))\n",
        "print(insert_sting_middle('{{}}', 'PHP'))"
      ],
      "metadata": {
        "colab": {
          "base_uri": "https://localhost:8080/"
        },
        "id": "yxwo28ZKZ3-f",
        "outputId": "78c794e8-dcb4-4355-86b4-f85c5cc9eaaf"
      },
      "execution_count": 10,
      "outputs": [
        {
          "output_type": "stream",
          "name": "stdout",
          "text": [
            "[[Python]]\n",
            "{{PHP}}\n"
          ]
        }
      ]
    },
    {
      "cell_type": "code",
      "source": [
        "# Bai 17\n",
        "\n",
        "def insert_end(str):\n",
        "  if len(str) > 2:\n",
        "    sub_str = str[-2:]\n",
        "    return sub_str * 4\n",
        "\n",
        "print(insert_end('Python'))\n",
        "print(insert_end('Exercises'))"
      ],
      "metadata": {
        "colab": {
          "base_uri": "https://localhost:8080/"
        },
        "id": "cfac1X9raQvL",
        "outputId": "8ef4b6fe-46f1-4634-fabc-3ec56067bcb5"
      },
      "execution_count": 12,
      "outputs": [
        {
          "output_type": "stream",
          "name": "stdout",
          "text": [
            "onononon\n",
            "eseseses\n"
          ]
        }
      ]
    },
    {
      "cell_type": "code",
      "source": [
        "# Bai 18\n",
        "\n",
        "def first_three(str):\n",
        "  return str[:3] if len(str) > 3 else str\n",
        "\n",
        "print(first_three('ipy'))\n",
        "print(first_three('python'))\n",
        "print(first_three('py'))"
      ],
      "metadata": {
        "colab": {
          "base_uri": "https://localhost:8080/"
        },
        "id": "KbDxbFNWagXF",
        "outputId": "40135505-9eb5-4a81-98ee-ff07c77e3b56"
      },
      "execution_count": 13,
      "outputs": [
        {
          "output_type": "stream",
          "name": "stdout",
          "text": [
            "ipy\n",
            "pyt\n",
            "py\n"
          ]
        }
      ]
    },
    {
      "cell_type": "code",
      "source": [
        "# Bai 19\n",
        "\n",
        "str1ng = input(\"Nhap tu ban phim: \")\n",
        "\n",
        "print(str1ng.rsplit('/', 1)[0])\n",
        "print(str1ng.rsplit('-', 1)[0])"
      ],
      "metadata": {
        "colab": {
          "base_uri": "https://localhost:8080/"
        },
        "id": "OYqLqvI5a_LO",
        "outputId": "5812557a-b1fa-472b-8c59-c82c3de51b59"
      },
      "execution_count": 14,
      "outputs": [
        {
          "output_type": "stream",
          "name": "stdout",
          "text": [
            "Nhap tu ban phim: https://www.w3resource.com/python-exercises/string\n",
            "https://www.w3resource.com/python-exercises\n"
          ]
        }
      ]
    },
    {
      "cell_type": "code",
      "source": [
        "# Bai 20\n",
        "\n",
        "def reverse_string(str):\n",
        "    if len(str) % 4 == 0:\n",
        "      return ''.join(reversed(str))\n",
        "    return str\n",
        "\n",
        "print(reverse_string('abcd'))\n",
        "print(reverse_string('python'))"
      ],
      "metadata": {
        "colab": {
          "base_uri": "https://localhost:8080/"
        },
        "id": "0o5ew-2cf-34",
        "outputId": "01ecce60-4166-42fd-a4f8-69a66d218a59"
      },
      "execution_count": 16,
      "outputs": [
        {
          "output_type": "stream",
          "name": "stdout",
          "text": [
            "d c b a\n",
            "python\n"
          ]
        }
      ]
    },
    {
      "cell_type": "code",
      "source": [
        "# Bai 21\n",
        "\n",
        "def to_uppercase(str1ng):\n",
        "    num_upper = 0\n",
        "    for letter in str1ng[:4]:\n",
        "        if letter.upper() == letter:\n",
        "            num_upper += 1\n",
        "    if num_upper >= 2:\n",
        "        return str1ng.upper()\n",
        "    return str1ng\n",
        "\n",
        "str1ng = input('Type from keyboard: ')\n",
        "print(to_uppercase(str1ng))"
      ],
      "metadata": {
        "colab": {
          "base_uri": "https://localhost:8080/"
        },
        "id": "Jo0Hvz-ggomf",
        "outputId": "341fb7a9-7e77-4ed3-ec42-55c68c59ea5f"
      },
      "execution_count": 2,
      "outputs": [
        {
          "output_type": "stream",
          "name": "stdout",
          "text": [
            "Type from keyboard: pyTHon\n",
            "PYTHON\n"
          ]
        }
      ]
    },
    {
      "cell_type": "code",
      "source": [
        "# Bai 22\n",
        "\n"
      ],
      "metadata": {
        "id": "xBOS28SE5WTn"
      },
      "execution_count": null,
      "outputs": []
    },
    {
      "cell_type": "code",
      "source": [
        "# Bai 23\n",
        "\n",
        "str1ng = input(\"Nhap tu ban phim: \")\n",
        "print(str1ng.rstrip())"
      ],
      "metadata": {
        "colab": {
          "base_uri": "https://localhost:8080/"
        },
        "id": "S_4-AMT2H-cs",
        "outputId": "3d106692-41d6-4f34-ef05-3a096bd33331"
      },
      "execution_count": 6,
      "outputs": [
        {
          "output_type": "stream",
          "name": "stdout",
          "text": [
            "Nhap tu ban phim: Python Exercises\n",
            "Python Exercises\n",
            "Python Exercises\n"
          ]
        }
      ]
    },
    {
      "cell_type": "code",
      "source": [
        "# Bai 24\n",
        "\n",
        "str1ng = input('Nhap tu ban phim: ')\n",
        "spechar = input('Nhap ky tu dac biet: ')\n",
        "\n",
        "print(str1ng.startswith(spechar))"
      ],
      "metadata": {
        "colab": {
          "base_uri": "https://localhost:8080/"
        },
        "id": "eNRK9nwCN61E",
        "outputId": "18dec7eb-a466-455b-e104-c8b7eb263b5f"
      },
      "execution_count": 7,
      "outputs": [
        {
          "output_type": "stream",
          "name": "stdout",
          "text": [
            "Nhap tu ban phim: w3resource.com\n",
            "Nhap ky tu dac biet: w3r\n",
            "True\n"
          ]
        }
      ]
    },
    {
      "cell_type": "code",
      "source": [
        "# Bai 26\n",
        "\n",
        "import textwrap\n",
        "sample_text = input('Nhap sample text: ')\n",
        "\n",
        "print()\n",
        "\n",
        "print(textwrap.fill(sample_text, width=50))"
      ],
      "metadata": {
        "colab": {
          "base_uri": "https://localhost:8080/"
        },
        "id": "OkRkGY0koTyO",
        "outputId": "ff953706-a9c6-4ca1-c2e1-786e36d34d73"
      },
      "execution_count": 9,
      "outputs": [
        {
          "output_type": "stream",
          "name": "stdout",
          "text": [
            "Nhap sample text: Python is a widely used high-level, general-purpose, interpreted,   dynamic programming language. Its design philosophy emphasizes   code readability, and its syntax allows programmers to express   concepts in fewer lines of code than possible in languages such   as C++ or Java.\n",
            "\n",
            "Python is a widely used high-level, general-\n",
            "purpose, interpreted,   dynamic programming\n",
            "language. Its design philosophy emphasizes   code\n",
            "readability, and its syntax allows programmers to\n",
            "express   concepts in fewer lines of code than\n",
            "possible in languages such   as C++ or Java.\n"
          ]
        }
      ]
    },
    {
      "cell_type": "code",
      "source": [
        "# Bai 27\n",
        "\n",
        "import textwrap\n",
        "sample_text = input('Nhap sample text: ')\n",
        "text_without_Indentation = textwrap.dedent(sample_text)\n",
        "print()\n",
        "print(text_without_Indentation)\n",
        "print()"
      ],
      "metadata": {
        "id": "BpNe-DYwtzAF"
      },
      "execution_count": null,
      "outputs": []
    },
    {
      "cell_type": "code",
      "source": [
        "# Bai 28\n",
        "\n",
        "import textwrap\n",
        "sample_text = sample_text = input('Nhap sample text: ')\n",
        "print()\n",
        "print(textwrap.indent(sample_text, '>'))"
      ],
      "metadata": {
        "colab": {
          "base_uri": "https://localhost:8080/"
        },
        "id": "KVUbjyAlubAU",
        "outputId": "18f600b4-68fa-4ab2-bd09-7266cef57d31"
      },
      "execution_count": 11,
      "outputs": [
        {
          "output_type": "stream",
          "name": "stdout",
          "text": [
            "\n",
            "\n",
            ">    Python is a widely used high-level, general-purpose, interpreted,\n",
            ">    dynamic programming language. Its design philosophy emphasizes\n",
            ">    code readability, and its syntax allows programmers to express\n",
            ">    concepts in fewer lines of code than possible in languages such\n",
            ">    as C++ or Java.\n",
            "    \n"
          ]
        }
      ]
    },
    {
      "cell_type": "code",
      "source": [
        "# Bai 29\n",
        "\n",
        "import textwrap\n",
        "sample_text = sample_text = input('Nhap sample text: ')\n",
        "\n",
        "fix_text = textwrap.dedent(sample_text).strip()\n",
        "print()\n",
        "print(textwrap.fill(fix_text,\n",
        "                    initial_indent='',\n",
        "                    subsequent_indent=' ' * 4,\n",
        "                    width=80,\n",
        "                    ))"
      ],
      "metadata": {
        "id": "S5U2qZwlu3Ep"
      },
      "execution_count": null,
      "outputs": []
    },
    {
      "cell_type": "code",
      "source": [
        "# Bai 30\n",
        "\n",
        "x = float(input(\"Nhap so thuc: \"))\n",
        "print(\"Formatted Number: \"+\"{:.2f}\".format(x))"
      ],
      "metadata": {
        "colab": {
          "base_uri": "https://localhost:8080/"
        },
        "id": "Y5x3-2tgwyxh",
        "outputId": "1e4dc291-c318-4a62-ae62-ad2c49794da1"
      },
      "execution_count": 12,
      "outputs": [
        {
          "output_type": "stream",
          "name": "stdout",
          "text": [
            "Nhap so thuc: 3.1415926\n",
            "Original Number:  3.1415926\n",
            "Formatted Number: 3.14\n"
          ]
        }
      ]
    },
    {
      "cell_type": "code",
      "source": [
        "# Bai 31\n",
        "\n",
        "x = float(input(\"Nhap so thuc: \"))\n",
        "print(\"Formatted Number: \"+\"{:+.2f}\".format(x))"
      ],
      "metadata": {
        "colab": {
          "base_uri": "https://localhost:8080/"
        },
        "id": "iE-N8H-gxKbB",
        "outputId": "52f878c6-5ecc-4260-c167-9b75330021e1"
      },
      "execution_count": 13,
      "outputs": [
        {
          "output_type": "stream",
          "name": "stdout",
          "text": [
            "Nhap so thuc: -12.9999\n",
            "Formatted Number: -13.00\n"
          ]
        }
      ]
    },
    {
      "cell_type": "code",
      "source": [
        "# Bai 32\n",
        "\n",
        "x = float(input(\"Nhap so thuc: \"))\n",
        "print(\"Formatted Number: \"+\"{:.0f}\".format(x))"
      ],
      "metadata": {
        "colab": {
          "base_uri": "https://localhost:8080/"
        },
        "id": "HmKfIwkwx0mK",
        "outputId": "fb377931-0c8d-4be5-d1d9-703963ef84d8"
      },
      "execution_count": 14,
      "outputs": [
        {
          "output_type": "stream",
          "name": "stdout",
          "text": [
            "Nhap so thuc: -12.9999\n",
            "Formatted Number: -13\n"
          ]
        }
      ]
    },
    {
      "cell_type": "code",
      "source": [
        "# Bai 33\n",
        "\n",
        "def print_with_leading_zeros(number, width):\n",
        "      print(str(number).zfill(width))\n",
        "\n",
        "number = int(input('Nhap so: '))\n",
        "width = int(input('Nhap chieu dai: '))\n",
        "print_with_leading_zeros(number, width)"
      ],
      "metadata": {
        "colab": {
          "base_uri": "https://localhost:8080/"
        },
        "id": "3W-OUaXny95P",
        "outputId": "58a057cc-d19c-4206-c644-289edd2cdf6d"
      },
      "execution_count": 23,
      "outputs": [
        {
          "output_type": "stream",
          "name": "stdout",
          "text": [
            "Nhap so: 123\n",
            "Nhap chieu dai: 5\n",
            "00123\n"
          ]
        }
      ]
    },
    {
      "cell_type": "code",
      "source": [
        "# Bai 34\n",
        "\n",
        "def print_with_trailing_stars(number, width):\n",
        "      print(f'{number:<{width}}'.replace(' ', '*'))\n",
        "\n",
        "number = int(input('Nhap so: '))\n",
        "width = int(input('Nhap chieu dai: '))\n",
        "print_with_trailing_stars(number, width)"
      ],
      "metadata": {
        "colab": {
          "base_uri": "https://localhost:8080/"
        },
        "id": "QDKivzwVCLfp",
        "outputId": "fc1a6e4e-62a8-4dc0-9819-757e15970cf7"
      },
      "execution_count": 25,
      "outputs": [
        {
          "output_type": "stream",
          "name": "stdout",
          "text": [
            "Nhap so: 123\n",
            "Nhap chieu dai: 6\n",
            "123***\n"
          ]
        }
      ]
    },
    {
      "cell_type": "code",
      "source": [
        "# Bai 35\n",
        "\n",
        "def print_number_with_commas(number):\n",
        "      print(\"{:,}\".format(number))\n",
        "\n",
        "number = int(input('Nhap so: '))\n",
        "print_number_with_commas(number)"
      ],
      "metadata": {
        "colab": {
          "base_uri": "https://localhost:8080/"
        },
        "id": "e_oCbUFZCho-",
        "outputId": "dff4de49-cb8a-4a50-e62f-210e9381943b"
      },
      "execution_count": 26,
      "outputs": [
        {
          "output_type": "stream",
          "name": "stdout",
          "text": [
            "Nhap so: 1342463574637\n",
            "1,342,463,574,637\n"
          ]
        }
      ]
    },
    {
      "cell_type": "code",
      "source": [
        "# Bai 36\n",
        "\n",
        "number = float(input('Nhap so: '))\n",
        "print(\"Formatted Number: \"+\"{:.0%}\".format(number))"
      ],
      "metadata": {
        "colab": {
          "base_uri": "https://localhost:8080/"
        },
        "id": "I_Mw491AE2OH",
        "outputId": "b63ef5ba-7f62-4ef1-c229-c044c44e9bd1"
      },
      "execution_count": 34,
      "outputs": [
        {
          "output_type": "stream",
          "name": "stdout",
          "text": [
            "Nhap so: 0.6\n",
            "Formatted Number: 60%\n"
          ]
        }
      ]
    },
    {
      "cell_type": "code",
      "source": [
        "# Bài 37\n",
        "\n",
        "def display_aligned(number):\n",
        "    print(f'Left aligned  : {number:<10}')\n",
        "    print(f'Right aligned : {number:>10}')\n",
        "    print(f'Center aligned: {number:^10}')\n",
        "\n",
        "number = int(input('Nhap so: '))\n",
        "display_aligned(number)"
      ],
      "metadata": {
        "colab": {
          "base_uri": "https://localhost:8080/"
        },
        "id": "AkVvosWSFY1r",
        "outputId": "29a5a8e5-0d2c-4e7d-b029-36205a1583eb"
      },
      "execution_count": 35,
      "outputs": [
        {
          "output_type": "stream",
          "name": "stdout",
          "text": [
            "Nhap so: 123\n",
            "Left aligned  : 123       \n",
            "Right aligned :        123\n",
            "Center aligned:    123    \n"
          ]
        }
      ]
    },
    {
      "cell_type": "code",
      "source": [
        "# Bài 38\n",
        "\n",
        "def count_substring_occurrences(text, substring):\n",
        "    return text.count(substring)\n",
        "\n",
        "# Example usage\n",
        "text = input('Nhap text: ')\n",
        "substring = input('Nhap substring: ')\n",
        "print(f'Occurrences of \"{substring}\":', count_substring_occurrences(text, substring))"
      ],
      "metadata": {
        "colab": {
          "base_uri": "https://localhost:8080/"
        },
        "id": "Jef-cXB3H5mh",
        "outputId": "deda1b71-d0e9-471c-e0bf-bcca20252eb2"
      },
      "execution_count": 36,
      "outputs": [
        {
          "output_type": "stream",
          "name": "stdout",
          "text": [
            "Nhap text: hello world, hello Python\n",
            "Nhap substring: hello\n",
            "Occurrences of \"hello\": 2\n"
          ]
        }
      ]
    },
    {
      "cell_type": "code",
      "source": [
        "# Bài 39\n",
        "\n",
        "text = input(\"Nhap tu ban phim: \")\n",
        "print(text[::-1])"
      ],
      "metadata": {
        "colab": {
          "base_uri": "https://localhost:8080/"
        },
        "id": "iD_O-S7BIe7w",
        "outputId": "389f3a6d-90d0-4a86-d6c8-8976f73f76d1"
      },
      "execution_count": 37,
      "outputs": [
        {
          "output_type": "stream",
          "name": "stdout",
          "text": [
            "Nhap tu ban phim: kjszgh\n",
            "hgzsjk\n"
          ]
        }
      ]
    },
    {
      "cell_type": "code",
      "source": [
        "# Bài 40\n",
        "\n",
        "text = input(\"Nhap tu ban phim: \")\n",
        "print(' '.join(text.split()[::-1]))"
      ],
      "metadata": {
        "colab": {
          "base_uri": "https://localhost:8080/"
        },
        "id": "W7312hoqNZMJ",
        "outputId": "5f85cbfb-2141-4aaf-d250-6027184b1629"
      },
      "execution_count": 38,
      "outputs": [
        {
          "output_type": "stream",
          "name": "stdout",
          "text": [
            "Nhap tu ban phim: The quick brown fox jumps over the lazy dog.\n",
            "dog. lazy the over jumps fox brown quick The\n"
          ]
        }
      ]
    },
    {
      "cell_type": "code",
      "source": [
        "# Bài 41\n",
        "\n",
        "def strip_characters(text, chars):\n",
        "    return ''.join(c for c in text if c not in chars)\n",
        "\n",
        "text = input('Nhap text: ')\n",
        "chars_to_remove = input('Nhap ki tu: ')\n",
        "print(\"Stripped string:\", strip_characters(text, chars_to_remove))"
      ],
      "metadata": {
        "colab": {
          "base_uri": "https://localhost:8080/"
        },
        "id": "KkjeeZtRNzYL",
        "outputId": "fac9aecd-bcbc-4161-c9a5-33b25d8d05cf"
      },
      "execution_count": 39,
      "outputs": [
        {
          "output_type": "stream",
          "name": "stdout",
          "text": [
            "Nhap text: thequickbrownfoxjumpsoverthelazydog\n",
            "Nhap ki tu: iogh\n",
            "Stripped string: tequckbrwnfxjumpsvertelazyd\n"
          ]
        }
      ]
    },
    {
      "cell_type": "code",
      "source": [
        "# Bài 42\n",
        "\n",
        "import collections\n",
        "text = input('Nhap text: ')\n",
        "d = collections.defaultdict(int)\n",
        "\n",
        "for c in text:\n",
        "    d[c] += 1\n",
        "\n",
        "for c in sorted(d, key=d.get, reverse=True):\n",
        "    if d[c] > 1:\n",
        "        print('%s %d' % (c, d[c]))"
      ],
      "metadata": {
        "colab": {
          "base_uri": "https://localhost:8080/"
        },
        "id": "3fjL0awpPEVV",
        "outputId": "4d7fc17a-b401-4b91-f7dc-2b73f3e692c9"
      },
      "execution_count": 40,
      "outputs": [
        {
          "output_type": "stream",
          "name": "stdout",
          "text": [
            "o 4\n",
            "e 3\n",
            "t 2\n",
            "h 2\n",
            "u 2\n",
            "r 2\n"
          ]
        }
      ]
    },
    {
      "cell_type": "code",
      "source": [
        "# Bài 43\n",
        "\n",
        "area = float(input('Area = '))\n",
        "volume = float(input('Volumn = '))\n",
        "\n",
        "decimals = 2\n",
        "print(\"The area of the rectangle is {0:.{1}f}cm\\u00b2\".format(area, decimals))"
      ],
      "metadata": {
        "id": "_HO6UTT_S9Ad"
      },
      "execution_count": null,
      "outputs": []
    },
    {
      "cell_type": "code",
      "source": [
        "# Bài 44\n",
        "\n",
        "text = input('Text: ')\n",
        "\n",
        "for index, char in enumerate(text):\n",
        "    print(\"Current character\", char, \"position at\", index)"
      ],
      "metadata": {
        "colab": {
          "base_uri": "https://localhost:8080/"
        },
        "id": "RnDy_eRZP8T9",
        "outputId": "523c9043-8035-443e-ba7e-7d834d93c255"
      },
      "execution_count": 41,
      "outputs": [
        {
          "output_type": "stream",
          "name": "stdout",
          "text": [
            "Text: w3resource\n",
            "Current character w position at 0\n",
            "Current character 3 position at 1\n",
            "Current character r position at 2\n",
            "Current character e position at 3\n",
            "Current character s position at 4\n",
            "Current character o position at 5\n",
            "Current character u position at 6\n",
            "Current character r position at 7\n",
            "Current character c position at 8\n",
            "Current character e position at 9\n"
          ]
        }
      ]
    },
    {
      "cell_type": "code",
      "source": [
        "# Bài 45\n",
        "\n",
        "import string\n",
        "alphabet = set(string.ascii_lowercase)\n",
        "text = input(\"Text: \")\n",
        "print(set(text.lower()) >= alphabet)"
      ],
      "metadata": {
        "colab": {
          "base_uri": "https://localhost:8080/"
        },
        "id": "LmGJfJB2TtdY",
        "outputId": "1c5fb894-c9f3-432d-e6be-a2f8efc57a2b"
      },
      "execution_count": 42,
      "outputs": [
        {
          "output_type": "stream",
          "name": "stdout",
          "text": [
            "Text: The quick brown fox jumps over the lazy dog\n",
            "True\n"
          ]
        }
      ]
    },
    {
      "cell_type": "code",
      "source": [
        "# Bài 46\n",
        "\n",
        "text = input(\"Text: \")\n",
        "print(text.split(' '))"
      ],
      "metadata": {
        "colab": {
          "base_uri": "https://localhost:8080/"
        },
        "id": "HlN0jve0UYD6",
        "outputId": "50a61cbb-565e-4fe4-a61c-8501e2c64487"
      },
      "execution_count": 43,
      "outputs": [
        {
          "output_type": "stream",
          "name": "stdout",
          "text": [
            "Text: The quick brown fox jumps over the lazy dog.\n",
            "['The', 'quick', 'brown', 'fox', 'jumps', 'over', 'the', 'lazy', 'dog.']\n"
          ]
        }
      ]
    },
    {
      "cell_type": "code",
      "source": [
        "# Bài 47\n",
        "\n",
        "text = input('Text: ')\n",
        "print(text[:4].lower() + text[4:])"
      ],
      "metadata": {
        "colab": {
          "base_uri": "https://localhost:8080/"
        },
        "id": "aBa7_4zjUwM6",
        "outputId": "4d7a2ba7-1ed3-40c3-a44d-2d5d2bd65d3b"
      },
      "execution_count": 45,
      "outputs": [
        {
          "output_type": "stream",
          "name": "stdout",
          "text": [
            "Text: Write \n",
            "write \n"
          ]
        }
      ]
    },
    {
      "cell_type": "code",
      "source": [
        "# Bài 48\n",
        "\n",
        "amount = input('Amount = ')\n",
        "maketrans = amount.maketrans\n",
        "amount = amount.translate(maketrans(',.', '.,'))\n",
        "print(amount)"
      ],
      "metadata": {
        "colab": {
          "base_uri": "https://localhost:8080/"
        },
        "id": "Kp_R2JiTV8SR",
        "outputId": "a33a7a10-5f1a-4353-b035-78e666362a8f"
      },
      "execution_count": 47,
      "outputs": [
        {
          "output_type": "stream",
          "name": "stdout",
          "text": [
            "Amount = 32.054,23\n",
            "32.054,23\n",
            "32,054.23\n"
          ]
        }
      ]
    },
    {
      "cell_type": "code",
      "source": [
        "# Bài 49\n",
        "\n",
        "def vowel(text):\n",
        "    vowels = \"aeiuoAEIOU\"\n",
        "    print(len([letter for letter in text if letter in vowels]))\n",
        "    print([letter for letter in text if letter in vowels])\n",
        "\n",
        "text = input('Text: ')\n",
        "vowel(text)"
      ],
      "metadata": {
        "colab": {
          "base_uri": "https://localhost:8080/"
        },
        "id": "jq9ryktrWTUw",
        "outputId": "bb884dfd-f2a5-44da-eace-6b3bde45a324"
      },
      "execution_count": 49,
      "outputs": [
        {
          "output_type": "stream",
          "name": "stdout",
          "text": [
            "Text: w3resource\n",
            "4\n",
            "['e', 'o', 'u', 'e']\n"
          ]
        }
      ]
    },
    {
      "cell_type": "code",
      "source": [
        "# Bài 51\n",
        "\n",
        "def first_non_repeating_character(str1):\n",
        "    char_order = []\n",
        "    ctr = {}\n",
        "\n",
        "    for c in str1:\n",
        "        if c in ctr:\n",
        "            ctr[c] += 1\n",
        "        else:\n",
        "            ctr[c] = 1\n",
        "            char_order.append(c)\n",
        "\n",
        "    for c in char_order:\n",
        "        if ctr[c] == 1:\n",
        "            return c\n",
        "    return None\n",
        "\n",
        "text = input('Text: ')\n",
        "print(first_non_repeating_character(text))"
      ],
      "metadata": {
        "id": "lC9_AMMuWvTQ"
      },
      "execution_count": null,
      "outputs": []
    },
    {
      "cell_type": "code",
      "source": [
        "# Bài 52\n",
        "\n",
        "def first_repeated_char(str1):\n",
        "    for index, c in enumerate(str1):\n",
        "        if str1[:index + 1].count(c) > 1:\n",
        "            return c\n",
        "    return \"None\"\n",
        "\n",
        "text = input('Text: ')\n",
        "print(first_non_repeating_character(text))"
      ],
      "metadata": {
        "id": "nUKrK25HXdEo"
      },
      "execution_count": null,
      "outputs": []
    },
    {
      "cell_type": "code",
      "source": [
        "# Bai\n",
        "\n",
        "def change_char(str1):\n",
        "  char = str1[0]\n",
        "  str1 = str1.replace(char, '$')\n",
        "  str1 = char + str1[1:]\n",
        "\n",
        "  return str1\n",
        "\n",
        "print(change_char('restart'))"
      ],
      "metadata": {
        "colab": {
          "base_uri": "https://localhost:8080/"
        },
        "id": "t4ul8piB_ebw",
        "outputId": "42b1cf66-a248-41a6-b46e-af71785064ba"
      },
      "execution_count": 4,
      "outputs": [
        {
          "output_type": "stream",
          "name": "stdout",
          "text": [
            "resta$t\n"
          ]
        }
      ]
    }
  ]
}